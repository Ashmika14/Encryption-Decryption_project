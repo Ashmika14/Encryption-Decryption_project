{
 "cells": [
  {
   "cell_type": "code",
   "execution_count": 1,
   "id": "004c6c81",
   "metadata": {},
   "outputs": [],
   "source": [
    "from utils import *\n",
    "import os"
   ]
  },
  {
   "cell_type": "code",
   "execution_count": 2,
   "id": "a90dc45b",
   "metadata": {},
   "outputs": [
    {
     "name": "stdout",
     "output_type": "stream",
     "text": [
      "Your message has been decrypted successfully\n"
     ]
    }
   ],
   "source": [
    "if __name__==\"__main__\" :\n",
    "    try :\n",
    "        key = load_key()\n",
    "        cipher_suite = Fernet(key)\n",
    "        decrypt_and_overwrite('input.txt', key, cipher_suite)\n",
    "        print(\"Your message has been decrypted successfully\")\n",
    "        os.remove(\"secret.txt\")\n",
    "    except Exception as e :\n",
    "        print(\"There is some error with Decryption\")"
   ]
  },
  {
   "cell_type": "code",
   "execution_count": null,
   "id": "91ace26b",
   "metadata": {},
   "outputs": [],
   "source": []
  }
 ],
 "metadata": {
  "kernelspec": {
   "display_name": "Python 3 (ipykernel)",
   "language": "python",
   "name": "python3"
  },
  "language_info": {
   "codemirror_mode": {
    "name": "ipython",
    "version": 3
   },
   "file_extension": ".py",
   "mimetype": "text/x-python",
   "name": "python",
   "nbconvert_exporter": "python",
   "pygments_lexer": "ipython3",
   "version": "3.11.5"
  }
 },
 "nbformat": 4,
 "nbformat_minor": 5
}
