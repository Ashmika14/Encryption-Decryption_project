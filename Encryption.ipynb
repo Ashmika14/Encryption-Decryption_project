{
 "cells": [
  {
   "cell_type": "code",
   "execution_count": 1,
   "id": "8bc373bb",
   "metadata": {},
   "outputs": [],
   "source": [
    "from utils import *\n",
    "import os"
   ]
  },
  {
   "cell_type": "code",
   "execution_count": 2,
   "id": "eec955b0",
   "metadata": {},
   "outputs": [
    {
     "name": "stdout",
     "output_type": "stream",
     "text": [
      "Your text file has been successfully encrypted\n"
     ]
    }
   ],
   "source": [
    "if __name__==\"__main__\" :\n",
    "    if not os.path.exists('secret.txt'):\n",
    "        generate_and_save_key()\n",
    "    key = load_key()\n",
    "    cipher_suite = Fernet(key)\n",
    "    encrypt_and_overwrite('input.txt', key,cipher_suite)\n",
    "    print(\"Your text file has been successfully encrypted\")\n"
   ]
  },
  {
   "cell_type": "code",
   "execution_count": null,
   "id": "0992aefe",
   "metadata": {},
   "outputs": [],
   "source": []
  }
 ],
 "metadata": {
  "kernelspec": {
   "display_name": "Python 3 (ipykernel)",
   "language": "python",
   "name": "python3"
  },
  "language_info": {
   "codemirror_mode": {
    "name": "ipython",
    "version": 3
   },
   "file_extension": ".py",
   "mimetype": "text/x-python",
   "name": "python",
   "nbconvert_exporter": "python",
   "pygments_lexer": "ipython3",
   "version": "3.11.5"
  }
 },
 "nbformat": 4,
 "nbformat_minor": 5
}
